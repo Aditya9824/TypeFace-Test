{
  "nbformat": 4,
  "nbformat_minor": 0,
  "metadata": {
    "colab": {
      "provenance": []
    },
    "kernelspec": {
      "name": "python3",
      "display_name": "Python 3"
    },
    "language_info": {
      "name": "python"
    }
  },
  "cells": [
    {
      "cell_type": "code",
      "source": [
        "def get_soundex(token):\n",
        "    \"\"\"Get the soundex code for the string\"\"\"\n",
        "    token = token.upper()\n",
        "\n",
        "    soundex = \"\"\n",
        "\n",
        "    soundex += token[0]\n",
        "    \n",
        "    dictionary = {\"BFPV\": \"1\", \"CGJKQSXZ\":\"2\", \"DT\":\"3\", \"L\":\"4\", \"MN\":\"5\", \"R\":\"6\", \"AEIOUHWY\":\".\"}\n",
        "\n",
        "    for char in token[1:]:\n",
        "        for key in dictionary.keys():\n",
        "            if char in key:\n",
        "                code = dictionary[key]\n",
        "                if code != soundex[-1]:\n",
        "                    soundex += code\n",
        "\n",
        "    soundex = soundex.replace(\".\", \"\")\n",
        "    soundex = soundex[:4].ljust(4, \"0\")\n",
        "        \n",
        "    return soundex"
      ],
      "metadata": {
        "id": "uMnLrX-8En5s"
      },
      "execution_count": 18,
      "outputs": []
    },
    {
      "cell_type": "code",
      "source": [
        "get_soundex('Moorthi')"
      ],
      "metadata": {
        "colab": {
          "base_uri": "https://localhost:8080/",
          "height": 35
        },
        "id": "9QGE3aG-ErLa",
        "outputId": "fef6941b-f028-4fd3-fbed-d468ec59218f"
      },
      "execution_count": 19,
      "outputs": [
        {
          "output_type": "execute_result",
          "data": {
            "text/plain": [
              "'M630'"
            ],
            "application/vnd.google.colaboratory.intrinsic+json": {
              "type": "string"
            }
          },
          "metadata": {},
          "execution_count": 19
        }
      ]
    },
    {
      "cell_type": "code",
      "source": [
        "with open (\"words.txt\",'r') as file:\n",
        "  data = file.read()"
      ],
      "metadata": {
        "id": "H5hqJ1uKFC-c"
      },
      "execution_count": 20,
      "outputs": []
    },
    {
      "cell_type": "code",
      "source": [
        "words=data.split(',')"
      ],
      "metadata": {
        "id": "Zx96Mto4GNe-"
      },
      "execution_count": 21,
      "outputs": []
    },
    {
      "cell_type": "code",
      "source": [
        "# words"
      ],
      "metadata": {
        "colab": {
          "base_uri": "https://localhost:8080/"
        },
        "id": "wboByZW_GZbz",
        "outputId": "5cb6243f-6c70-4552-fc04-d3ec372d242f"
      },
      "execution_count": 22,
      "outputs": [
        {
          "output_type": "execute_result",
          "data": {
            "text/plain": [
              "['Moorthi',\n",
              " 'Murthi',\n",
              " 'Mooethy',\n",
              " 'Murthy',\n",
              " 'Moort',\n",
              " 'Moorthy',\n",
              " 'word',\n",
              " 'law',\n",
              " 'Muurthi',\n",
              " 'Moortthy',\n",
              " 'Mu',\n",
              " 'manoj',\n",
              " 'rohan',\n",
              " ' murth',\n",
              " 'moot']"
            ]
          },
          "metadata": {},
          "execution_count": 22
        }
      ]
    },
    {
      "cell_type": "code",
      "source": [
        "source=input(\"Enter Your Source String: \")"
      ],
      "metadata": {
        "colab": {
          "base_uri": "https://localhost:8080/"
        },
        "id": "qN9OVer4GadB",
        "outputId": "246b54e3-a82c-487d-af0b-7ba55357c332"
      },
      "execution_count": 24,
      "outputs": [
        {
          "name": "stdout",
          "output_type": "stream",
          "text": [
            "Enter Your Source String: murth\n"
          ]
        }
      ]
    },
    {
      "cell_type": "code",
      "source": [
        "Answer=[]"
      ],
      "metadata": {
        "id": "P6-3WPA5Guna"
      },
      "execution_count": 25,
      "outputs": []
    },
    {
      "cell_type": "code",
      "source": [
        "for wo in words:\n",
        "  if get_soundex(source)==get_soundex(wo):\n",
        "    Answer.append(wo)\n"
      ],
      "metadata": {
        "id": "KUj207M4GjJf"
      },
      "execution_count": 26,
      "outputs": []
    },
    {
      "cell_type": "code",
      "source": [
        "Answer"
      ],
      "metadata": {
        "colab": {
          "base_uri": "https://localhost:8080/"
        },
        "id": "XcudNCybG2dJ",
        "outputId": "40499655-140b-448e-bbff-1c20c58f1baf"
      },
      "execution_count": 27,
      "outputs": [
        {
          "output_type": "execute_result",
          "data": {
            "text/plain": [
              "['Moorthi', 'Murthi', 'Murthy', 'Moort', 'Moorthy', 'Muurthi', 'Moortthy']"
            ]
          },
          "metadata": {},
          "execution_count": 27
        }
      ]
    },
    {
      "cell_type": "code",
      "source": [],
      "metadata": {
        "id": "30UwKVd0G3mF"
      },
      "execution_count": null,
      "outputs": []
    }
  ]
}